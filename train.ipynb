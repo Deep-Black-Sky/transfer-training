{
  "nbformat": 4,
  "nbformat_minor": 0,
  "metadata": {
    "kernelspec": {
      "name": "python3",
      "display_name": "Python 3"
    },
    "language_info": {
      "codemirror_mode": {
        "name": "ipython",
        "version": 3
      },
      "file_extension": ".py",
      "mimetype": "text/x-python",
      "name": "python",
      "nbconvert_exporter": "python",
      "pygments_lexer": "ipython3",
      "version": "3.7.4"
    },
    "colab": {
      "name": "train.ipynb",
      "version": "0.3.2",
      "provenance": [],
      "machine_shape": "hm"
    },
    "accelerator": "GPU"
  },
  "cells": [
    {
      "cell_type": "code",
      "metadata": {
        "id": "pwGEm7VV8KkD",
        "colab_type": "code",
        "colab": {}
      },
      "source": [
        "!git clone https://github.com/Deep-Black-Sky/transfer-training.git\n",
        "%cd transfer-training"
      ],
      "execution_count": 0,
      "outputs": []
    },
    {
      "cell_type": "code",
      "metadata": {
        "id": "TnGPpXqx7-8R",
        "colab_type": "code",
        "colab": {}
      },
      "source": [
        "import Model\n",
        "import Data\n",
        "\n",
        "model = Model.construct_model(100)\n",
        "(x_train, y_train), (x_test, y_test) = Data.get_datasets(224, 224)"
      ],
      "execution_count": 0,
      "outputs": []
    },
    {
      "cell_type": "code",
      "metadata": {
        "id": "RU93GWbY7-8W",
        "colab_type": "code",
        "colab": {}
      },
      "source": [
        "history = model.fit(\n",
        "    x=x_train, y=y_train,\n",
        "    validation_split=0.3,\n",
        "    epochs=100\n",
        ")"
      ],
      "execution_count": 0,
      "outputs": []
    }
  ]
}